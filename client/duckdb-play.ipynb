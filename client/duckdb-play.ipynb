{
 "cells": [
  {
   "cell_type": "code",
   "execution_count": 2,
   "metadata": {},
   "outputs": [],
   "source": [
    "import duckdb\n",
    "import pandas as pd"
   ]
  },
  {
   "cell_type": "code",
   "execution_count": 3,
   "metadata": {},
   "outputs": [],
   "source": [
    "import os\n",
    "import duckdb\n",
    "\n",
    "# Directory containing CSV files\n",
    "data_folder = '../raw-data/'\n",
    "\n",
    "# Get a list of all CSV files in the directory\n",
    "csv_files = [os.path.join(data_folder, f) for f in os.listdir(data_folder) if f.endswith('.csv')]\n",
    "\n",
    "# soecify duckdb database\n",
    "conn = duckdb.connect('../database/banking_data.duckdb')"
   ]
  },
  {
   "cell_type": "code",
   "execution_count": null,
   "metadata": {},
   "outputs": [],
   "source": [
    "query = \"\"\"\n",
    "SELECT \n",
    "    \"Date of Account Opening\", \n",
    "    \"Last Transaction Date\", \n",
    "    \"Last Transaction Amount\" \n",
    "FROM banking_data \n",
    "LIMIT 5;\n",
    "\"\"\"\n",
    "results = conn.execute(query).fetchall()\n",
    "print(\"Sample Data:\", results)"
   ]
  },
  {
   "cell_type": "code",
   "execution_count": 6,
   "metadata": {},
   "outputs": [],
   "source": [
    "# truncate previous table to cretae new transformation\n",
    "query = \"\"\"\n",
    "TRUNCATE banking_data;\n",
    "\"\"\"\n",
    "results = conn.execute(query)\n"
   ]
  },
  {
   "cell_type": "code",
   "execution_count": 10,
   "metadata": {},
   "outputs": [],
   "source": [
    "# drop table\n",
    "\n",
    "query = \"\"\"\n",
    "DROP TABLE IF EXISTS banking_data;\n",
    "\"\"\"\n",
    "results = conn.execute(query)"
   ]
  },
  {
   "cell_type": "code",
   "execution_count": 2,
   "metadata": {},
   "outputs": [
    {
     "name": "stdout",
     "output_type": "stream",
     "text": [
      "Database saved and connection closed.\n"
     ]
    }
   ],
   "source": [
    "conn.close()\n",
    "print(\"Database saved and connection closed.\")"
   ]
  }
 ],
 "metadata": {
  "kernelspec": {
   "display_name": "bsn_env",
   "language": "python",
   "name": "python3"
  },
  "language_info": {
   "codemirror_mode": {
    "name": "ipython",
    "version": 3
   },
   "file_extension": ".py",
   "mimetype": "text/x-python",
   "name": "python",
   "nbconvert_exporter": "python",
   "pygments_lexer": "ipython3",
   "version": "3.10.12"
  }
 },
 "nbformat": 4,
 "nbformat_minor": 2
}
